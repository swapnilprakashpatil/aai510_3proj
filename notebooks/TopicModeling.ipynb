{
 "cells": [
  {
   "cell_type": "code",
   "execution_count": null,
   "id": "efbe4892",
   "metadata": {},
   "outputs": [],
   "source": [
    "%pip install -r ../requirements.txt\n",
    "%load_ext autoreload\n",
    "%autoreload 2"
   ]
  },
  {
   "cell_type": "code",
   "execution_count": null,
   "id": "a9bd5190",
   "metadata": {},
   "outputs": [],
   "source": [
    "# Import necessary libraries\n",
    "import sys\n",
    "import os\n",
    "import shutil\n",
    "import warnings\n",
    "import pandas as pd\n",
    "import numpy as np\n",
    "import matplotlib.pyplot as plt\n",
    "import seaborn as sns\n",
    "from sklearn.metrics import accuracy_score\n",
    "from sklearn.model_selection import train_test_split\n",
    "\n",
    "sys.path.append(os.path.abspath(os.path.join(os.pardir, 'src')))\n",
    "\n",
    "# Import project-specific internal modules\n",
    "from preprocessor import DataPreprocessor\n",
    "from plots import PlotGenerator\n",
    "from src import config\n",
    "from config import RUN_CONFIGURATION, EMOTION_STATES, NLP_CONFIG, SENTIMENT_MODEL_EXPORT_PATH_RAW, \\\n",
    "    SENTIMENT_MODEL_EXPORT_PATH_OPTIMIZED, EMOTION_VARIATIONS_PATH, NEGATION_PATTERNS_PATH, \\\n",
    "    HYPERPARAMETERS, RANDOM_STATE, PREDICTION_MODEL_EXPORT_PATH, TOPIC_MODEL_EXPORT_PATH, \\\n",
    "    is_step_enabled\n",
    "from src.sentiment_analysis import SentimentAnalysisModel\n",
    "from src.emotion_postprocessor import EmotionPostProcessor\n",
    "from src.clinical_notes_prediction import ClinicalNotesNoShowPredictor\n",
    "from clinical_topic_model import ClinicalTopicModel\n",
    "from src import config\n",
    "from src.plots import PlotGenerator\n",
    "\n",
    "# Create an instance of the preprocessing and plotting classes\n",
    "preprocessor = DataPreprocessor(config)\n",
    "plotter = PlotGenerator(style='whitegrid', palette='viridis', figsize=(10, 6))\n",
    "\n",
    "sns.set(style='whitegrid')\n",
    "warnings.filterwarnings(\"ignore\")"
   ]
  },
  {
   "cell_type": "code",
   "execution_count": null,
   "id": "38d49bcd",
   "metadata": {},
   "outputs": [],
   "source": [
    "if is_step_enabled('dataload'):\n",
    "    df = preprocessor.load_data(config.DATASET_PATH)\n",
    "    display(\"shape:\", df.shape)\n",
    "    display(\"columns:\", df.columns)\n",
    "    display(df.head())\n",
    "    display(df.describe())"
   ]
  },
  {
   "cell_type": "markdown",
   "id": "83ec00c0",
   "metadata": {},
   "source": [
    "# Pre Processing"
   ]
  },
  {
   "cell_type": "code",
   "execution_count": null,
   "id": "0a8282c6",
   "metadata": {},
   "outputs": [],
   "source": [
    "if is_step_enabled('data_preprocess'):\n",
    "    df = preprocessor.preprocess_data(df)\n",
    "    display(\"shape:\", df.shape)\n",
    "    display(\"columns:\", df.columns)\n",
    "    display(df.head())\n",
    "    display(df.describe())"
   ]
  },
  {
   "cell_type": "code",
   "execution_count": null,
   "id": "6d18359a",
   "metadata": {},
   "outputs": [],
   "source": [
    "# Topic Modeling for Diabetes, Hypertension, Alcoholism using ClinicalTopicModel class and project architecture\n",
    "if is_step_enabled('nlp_topic_modeling'):\n",
    "    model = ClinicalTopicModel(config)\n",
    "    conditions = ['diabetes', 'hypertension', 'alcohol']\n",
    "    perplexities = []\n",
    "    silhouette_scores = []\n",
    "    all_topics = []\n",
    "\n",
    "    for cond in conditions:\n",
    "        df_cond = model.preprocess_notes(df, cond)\n",
    "        if df_cond.empty:\n",
    "            print(f\"Skipping {cond}: No clinical concepts found after MedSpaCy extraction.\")\n",
    "            perplexities.append(None)\n",
    "            silhouette_scores.append(None)\n",
    "            all_topics.append([])\n",
    "            continue\n",
    "        model.train(df_cond['PatientNotes_clean'])\n",
    "        perplexity, sil_score = model.evaluate(df_cond['PatientNotes_clean'])\n",
    "        print(f\"\\n--- {cond.title()} ---\")\n",
    "        print(f\"Model Perplexity: {perplexity:.2f}\")\n",
    "        if sil_score is not None:\n",
    "            print(f\"Silhouette Score: {sil_score:.2f}\")\n",
    "        topics = model.get_topics(n_top_words=10)\n",
    "        for idx, topic_words in enumerate(topics):\n",
    "            print(f\"Topic {idx+1}: {' '.join(topic_words)}\")\n",
    "        perplexities.append(perplexity)\n",
    "        silhouette_scores.append(sil_score if sil_score is not None else 0)\n",
    "        all_topics.append(topics)"
   ]
  },
  {
   "cell_type": "code",
   "execution_count": null,
   "id": "75e23557",
   "metadata": {},
   "outputs": [],
   "source": [
    "if is_step_enabled('nlp_topic_modeling'):\n",
    "\n",
    "    # Visualize clinical entities for a note after topic modeling\n",
    "    if not df_cond.empty:\n",
    "        # Visualize clinical entities for 10 notes after topic modeling\n",
    "        for i in range(min(10, len(df_cond))):\n",
    "            sample_note = df_cond['PatientNotes'].iloc[i]\n",
    "            print(f'Visualizing clinical entities for a note {i+1}:')\n",
    "            model.plot_medspacy_ents(sample_note)\n",
    "        print('Visualizing clinical entities for a note:')\n",
    "        model.plot_medspacy_ents(sample_note)\n",
    "    else:\n",
    "        print('No notes available for visualization.')\n",
    "\n",
    "    # Plot word clouds for each condition after the loop\n",
    "    for cond in conditions:\n",
    "        plotter.plot_wordclouds(model.model, model.vectorizer, cond)\n",
    "\n",
    "    # Plot Perplexity and Silhouette Score using plotter\n",
    "    plotter.plot_bar(conditions, perplexities, title='LDA Model Perplexity by Condition (MedSpaCy)', ylabel='Perplexity')\n",
    "    plotter.plot_bar(conditions, silhouette_scores, title='LDA Silhouette Score by Condition (MedSpaCy)', ylabel='Silhouette Score')"
   ]
  },
  {
   "cell_type": "code",
   "execution_count": null,
   "id": "a868b130",
   "metadata": {},
   "outputs": [],
   "source": [
    "if is_step_enabled('nlp_topic_modeling'):\n",
    "    # Export the trained topic model and vectorizer\n",
    "    model.export(TOPIC_MODEL_EXPORT_PATH)\n",
    "    print(f\"Model and vectorizer exported to: {TOPIC_MODEL_EXPORT_PATH}_lda_model.joblib and {TOPIC_MODEL_EXPORT_PATH}_vectorizer.joblib\")"
   ]
  }
 ],
 "metadata": {
  "kernelspec": {
   "display_name": ".venv",
   "language": "python",
   "name": "python3"
  },
  "language_info": {
   "codemirror_mode": {
    "name": "ipython",
    "version": 3
   },
   "file_extension": ".py",
   "mimetype": "text/x-python",
   "name": "python",
   "nbconvert_exporter": "python",
   "pygments_lexer": "ipython3",
   "version": "3.10.6"
  }
 },
 "nbformat": 4,
 "nbformat_minor": 5
}
